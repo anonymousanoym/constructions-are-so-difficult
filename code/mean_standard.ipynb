{
 "cells": [
  {
   "cell_type": "code",
   "execution_count": 12,
   "id": "initial_id",
   "metadata": {},
   "outputs": [],
   "source": [
    "def calculate_mean_std_for_cell(row, col, file_list):\n",
    "    # 创建一个DataFrame以存储所有文件的数据\n",
    "    data = []\n",
    "\n",
    "    # 从每个文件中读取指定单元格的数据，并将其添加到data DataFrame中\n",
    "    for file_name in file_list:\n",
    "        df = pd.read_excel(file_name)\n",
    "        cell_data = df.loc[row, col]\n",
    "        data.append(pd.to_numeric(cell_data, errors='coerce'))\n",
    "        \n",
    "    # 计算平均值和标准差\n",
    "    mean = np.mean(data)\n",
    "    std = np.std(data)\n",
    "\n",
    "    # 返回'Mean ± Std' 格式的字符串\n",
    "    result = f\"{mean:.2f} ± {std:.2f}\"\n",
    "\n",
    "    return result\n",
    "\n",
    "def create_mean_std_dataframe(rows, cols, file_list, output_file):\n",
    "    # 创建一个空的 Pandas DataFrame\n",
    "    result_df = pd.DataFrame()\n",
    "\n",
    "    # 循环遍历指定区域内的单元格\n",
    "    for row in rows:\n",
    "        for col in cols:\n",
    "            # 调用给定的函数来计算平均值和标准差\n",
    "            result = calculate_mean_std_for_cell(row, col, file_list)\n",
    "            # 将结果添加到 DataFrame\n",
    "            result_df.loc[row, col] = result\n",
    "    \n",
    "    result_df.to_excel(output_file, index=False)\n",
    "    return result_df"
   ]
  },
  {
   "cell_type": "code",
   "execution_count": 4,
   "id": "23a0a717",
   "metadata": {},
   "outputs": [],
   "source": [
    "import pandas as pd\n",
    "import numpy as np\n",
    "\n",
    "def calculate_data_list(row, col, file_list):\n",
    "    # 创建一个DataFrame以存储所有文件的数据\n",
    "    data = []\n",
    "\n",
    "    # 从每个文件中读取指定单元格的数据，并将其添加到data DataFrame中\n",
    "    for file_name in file_list:\n",
    "        df = pd.read_excel(file_name)\n",
    "        cell_data = df.loc[row, col]\n",
    "        data.append(float(pd.to_numeric(cell_data, errors='coerce')))\n",
    "\n",
    "    return data\n",
    "\n",
    "def create_file(rows, cols, file_list, output_file):\n",
    "    # 创建一个空的 Pandas DataFrame\n",
    "    output_data = []\n",
    "\n",
    "    # 循环遍历指定区域内的单元格\n",
    "    for row in rows:\n",
    "        for col in cols:\n",
    "            # 调用给定的函数来计算平均值和标准差\n",
    "            data = calculate_data_list(row, col, file_list)\n",
    "            print(row, col, data)\n",
    "            output_data.append([f\"llama 2, prompt 1-{row+1}\", col, data])\n",
    "    \n",
    "    df = pd.DataFrame(output_data, columns=['Model(below)+Prompt', 'Type(right)', 'Data'])\n",
    "    df.to_csv(output_file, index=False)\n",
    "            # 将结果添加到 DataFrame\n",
    "#             result_df.loc[row, col] = data\n",
    "    \n",
    "#     result_df.to_excel(output_file, index=False)\n",
    "#     return result_df"
   ]
  },
  {
   "cell_type": "code",
   "execution_count": 41,
   "id": "0ff4e6a4",
   "metadata": {},
   "outputs": [
    {
     "name": "stdout",
     "output_type": "stream",
     "text": [
      "<class 'list'>\n",
      "<class 'float'>\n",
      "[6.31, 2.7, 6.31, 6.31, 2.7]\n"
     ]
    }
   ],
   "source": [
    "file_list = [\"comparison_results_{}.xlsx\".format(i) for i in range(1, 6)]\n",
    "row = 0 # GPT-3.5\n",
    "col = \"causal excess\"\n",
    "data = calculate_data_list(row, col, file_list)\n",
    "print(type(data))\n",
    "print(type(data[0]))\n",
    "print(data)"
   ]
  },
  {
   "cell_type": "code",
   "execution_count": 5,
   "id": "4633f9bc",
   "metadata": {},
   "outputs": [
    {
     "name": "stdout",
     "output_type": "stream",
     "text": [
      "0 causal excess [4.5, 10.81]\n",
      "0 only causal excess [10.89, 13.86]\n",
      "0 causal [96.39, 93.98]\n",
      "0 non-causal [100.0, 100.0]\n",
      "1 causal excess [10.81, 7.21]\n",
      "1 only causal excess [3.96, 7.92]\n",
      "1 causal [95.18, 90.36]\n",
      "1 non-causal [96.43, 85.71]\n",
      "2 causal excess [7.21, 8.11]\n",
      "2 only causal excess [19.8, 11.88]\n",
      "2 causal [86.75, 91.57]\n",
      "2 non-causal [82.14, 92.86]\n",
      "3 causal excess [13.51, 11.71]\n",
      "3 only causal excess [17.82, 13.86]\n",
      "3 causal [81.93, 87.95]\n",
      "3 non-causal [89.29, 89.29]\n"
     ]
    }
   ],
   "source": [
    "file_list = [\"llama_prompts_accuracy_{}.xlsx\".format(i) for i in range(1, 3)]\n",
    "rows = [0,1,2,3] # GPT-3.5\n",
    "cols = [\"causal excess\",\"only causal excess\", \"causal\", \"non-causal\",]\n",
    "mean_standard_output_file = \"all_llama.csv\"\n",
    "# 创建包含数据的 DataFrame\n",
    "result_df = create_file(rows, cols, file_list, mean_standard_output_file)"
   ]
  },
  {
   "cell_type": "code",
   "execution_count": 14,
   "id": "935bdc87",
   "metadata": {},
   "outputs": [],
   "source": [
    "def calculate_mean_for_cell(row, col, file_list):\n",
    "    # 创建一个DataFrame以存储所有文件的数据\n",
    "    data = []\n",
    "\n",
    "    # 从每个文件中读取指定单元格的数据，并将其添加到data DataFrame中\n",
    "    for file_name in file_list:\n",
    "        df = pd.read_excel(file_name)\n",
    "        cell_data = df.loc[row, col]\n",
    "        data.append(pd.to_numeric(cell_data, errors='coerce'))\n",
    "        \n",
    "    # 计算平均值和标准差\n",
    "    mean = np.mean(data)\n",
    "\n",
    "    # 返回'Mean ± Std' 格式的字符串\n",
    "    result = f\"{mean:.2f}\"\n",
    "\n",
    "    return result\n",
    "\n",
    "def create_mean_dataframe(rows, cols, file_list, output_file):\n",
    "    # 创建一个空的 Pandas DataFrame\n",
    "    result_df = pd.DataFrame()\n",
    "\n",
    "    # 循环遍历指定区域内的单元格\n",
    "    for row in rows:\n",
    "        for col in cols:\n",
    "            # 调用给定的函数来计算平均值和标准差\n",
    "            result = calculate_mean_for_cell(row, col, file_list)\n",
    "            # 将结果添加到 DataFrame\n",
    "            result_df.loc[row, col] = result\n",
    "    \n",
    "    result_df.to_excel(output_file, index=False)\n",
    "    return result_df"
   ]
  },
  {
   "cell_type": "code",
   "execution_count": 15,
   "id": "13b44de5",
   "metadata": {},
   "outputs": [],
   "source": [
    "rows = list(range(0,16))\n",
    "cols = [\"causal excess\",\"only causal excess\", \"causal\", \"non-causal\", \"overall accuracy\"]\n",
    "mean_output_file = \"mean_llama.xlsx\"\n",
    "# 创建包含数据的 DataFrame\n",
    "result_df = create_mean_dataframe(rows, cols, file_list, mean_output_file)"
   ]
  },
  {
   "cell_type": "code",
   "execution_count": null,
   "id": "a50134ef",
   "metadata": {},
   "outputs": [],
   "source": []
  }
 ],
 "metadata": {
  "kernelspec": {
   "display_name": "Python 3 (ipykernel)",
   "language": "python",
   "name": "python3"
  },
  "language_info": {
   "codemirror_mode": {
    "name": "ipython",
    "version": 3
   },
   "file_extension": ".py",
   "mimetype": "text/x-python",
   "name": "python",
   "nbconvert_exporter": "python",
   "pygments_lexer": "ipython3",
   "version": "3.11.3"
  }
 },
 "nbformat": 4,
 "nbformat_minor": 5
}
