{
 "cells": [
  {
   "cell_type": "code",
   "execution_count": 2,
   "id": "initial_id",
   "metadata": {},
   "outputs": [
    {
     "name": "stderr",
     "output_type": "stream",
     "text": [
      "2023-10-15 20:31:00.767 Python[93143:2235537] apply_selection_policy_once: avoid use of removable GPUs (via org.python.python:GPUSelectionPolicy->avoidRemovable)\n"
     ]
    }
   ],
   "source": [
    "import pandas as pd\n",
    "import json\n",
    "import spacy\n",
    "from spacy import displacy\n",
    "import re"
   ]
  },
  {
   "cell_type": "code",
   "execution_count": 3,
   "id": "7dc9d33f",
   "metadata": {},
   "outputs": [
    {
     "data": {
      "text/html": [
       "<div>\n",
       "<style scoped>\n",
       "    .dataframe tbody tr th:only-of-type {\n",
       "        vertical-align: middle;\n",
       "    }\n",
       "\n",
       "    .dataframe tbody tr th {\n",
       "        vertical-align: top;\n",
       "    }\n",
       "\n",
       "    .dataframe thead th {\n",
       "        text-align: right;\n",
       "    }\n",
       "</style>\n",
       "<table border=\"1\" class=\"dataframe\">\n",
       "  <thead>\n",
       "    <tr style=\"text-align: right;\">\n",
       "      <th></th>\n",
       "      <th>sentence_id</th>\n",
       "      <th>sentence_text</th>\n",
       "    </tr>\n",
       "  </thead>\n",
       "  <tbody>\n",
       "    <tr>\n",
       "      <th>0</th>\n",
       "      <td>1086</td>\n",
       "      <td>I was just enjoying his otherwise good narrati...</td>\n",
       "    </tr>\n",
       "    <tr>\n",
       "      <th>1</th>\n",
       "      <td>12241</td>\n",
       "      <td>Because it is apparent that this remote has to...</td>\n",
       "    </tr>\n",
       "    <tr>\n",
       "      <th>2</th>\n",
       "      <td>15278</td>\n",
       "      <td>, is definitely a very good strategy game , ye...</td>\n",
       "    </tr>\n",
       "    <tr>\n",
       "      <th>3</th>\n",
       "      <td>19094</td>\n",
       "      <td>No apparent glitches after 8 months , firmware...</td>\n",
       "    </tr>\n",
       "    <tr>\n",
       "      <th>4</th>\n",
       "      <td>29497</td>\n",
       "      <td>The dangers of Area X are n't immediately appa...</td>\n",
       "    </tr>\n",
       "    <tr>\n",
       "      <th>...</th>\n",
       "      <td>...</td>\n",
       "      <td>...</td>\n",
       "    </tr>\n",
       "    <tr>\n",
       "      <th>50227</th>\n",
       "      <td>586531181</td>\n",
       "      <td>Shawn 's writing skills were apparent on the s...</td>\n",
       "    </tr>\n",
       "    <tr>\n",
       "      <th>50228</th>\n",
       "      <td>586535879</td>\n",
       "      <td>Lionel Richie and Rick James ' prominence at M...</td>\n",
       "    </tr>\n",
       "    <tr>\n",
       "      <th>50229</th>\n",
       "      <td>586538436</td>\n",
       "      <td>To prove my point try watching   the taped ver...</td>\n",
       "    </tr>\n",
       "    <tr>\n",
       "      <th>50230</th>\n",
       "      <td>586557129</td>\n",
       "      <td>It was apparent that the lengh of time it took...</td>\n",
       "    </tr>\n",
       "    <tr>\n",
       "      <th>50231</th>\n",
       "      <td>586557705</td>\n",
       "      <td>I can happily report none of these issues are ...</td>\n",
       "    </tr>\n",
       "  </tbody>\n",
       "</table>\n",
       "<p>50232 rows × 2 columns</p>\n",
       "</div>"
      ],
      "text/plain": [
       "       sentence_id                                      sentence_text\n",
       "0             1086  I was just enjoying his otherwise good narrati...\n",
       "1            12241  Because it is apparent that this remote has to...\n",
       "2            15278  , is definitely a very good strategy game , ye...\n",
       "3            19094  No apparent glitches after 8 months , firmware...\n",
       "4            29497  The dangers of Area X are n't immediately appa...\n",
       "...            ...                                                ...\n",
       "50227    586531181  Shawn 's writing skills were apparent on the s...\n",
       "50228    586535879  Lionel Richie and Rick James ' prominence at M...\n",
       "50229    586538436  To prove my point try watching   the taped ver...\n",
       "50230    586557129  It was apparent that the lengh of time it took...\n",
       "50231    586557705  I can happily report none of these issues are ...\n",
       "\n",
       "[50232 rows x 2 columns]"
      ]
     },
     "execution_count": 3,
     "metadata": {},
     "output_type": "execute_result"
    }
   ],
   "source": [
    "# Define the input CSV file and output JSON file\n",
    "input_csv_file = 'results.csv'\n",
    "\n",
    "# Read the CSV file into a pandas DataFrame\n",
    "df = pd.read_csv(input_csv_file)\n",
    "nlp = spacy.load(\"en_core_web_sm\")\n",
    "\n",
    "# df.to_excel('full_dataset.xlsx', index=False)\n",
    "df"
   ]
  },
  {
   "cell_type": "code",
   "execution_count": 4,
   "id": "75db0e88",
   "metadata": {},
   "outputs": [],
   "source": [
    "# TODO: Filtered out the \"so... what...\"\n",
    "sents = df[\"sentence_text\"]\n",
    "\n",
    "with_so = set()\n",
    "without_so = set()\n",
    "\n",
    "data = []\n",
    "for s in sents:\n",
    "    d = {}\n",
    "    doc = nlp(s)\n",
    "    adv_idx = {}\n",
    "    for token in doc:\n",
    "        if token.pos_ == \"VERB\" and token.dep_ == \"ccomp\":\n",
    "            if token.head.pos_ == \"ADJ\" and token.head.dep_ == \"acomp\":\n",
    "                adj_idx = token.head.idx\n",
    "                d[\"adjective\"] = token.head.text\n",
    "                d[\"verb\"] = token.text\n",
    "                d[\"sentence\"] = s\n",
    "        if token.pos_ == \"ADV\":\n",
    "            adv_idx[token.idx] = token.text\n",
    "#     raise Exception\n",
    "    flag = True\n",
    "    for i in adv_idx:\n",
    "        try:\n",
    "            if i < adj_idx:\n",
    "                if adv_idx[i] == \"so\":\n",
    "                    d[\"tag\"] = \"with_so\"\n",
    "                    flag = False\n",
    "                    break\n",
    "        except:\n",
    "            continue\n",
    "    if flag == True:\n",
    "        d[\"tag\"] = \"without_so\"\n",
    "    if d.get(\"adjective\"):\n",
    "        data.append(d)\n",
    "        \n",
    "# Convert the list of dictionaries into a pandas DataFrame\n",
    "df_washed = pd.DataFrame(data)\n",
    "\n",
    "# Save the DataFrame to an Excel file\n",
    "df_washed.to_excel('apparent.xlsx', index=False)"
   ]
  },
  {
   "cell_type": "code",
   "execution_count": null,
   "id": "08303296",
   "metadata": {},
   "outputs": [],
   "source": []
  },
  {
   "cell_type": "code",
   "execution_count": 6,
   "id": "bdbf4111",
   "metadata": {},
   "outputs": [],
   "source": [
    "df_new = pd.read_excel('full_dataset.xlsx')\n",
    "df_old = pd.read_csv('my_file.csv', on_bad_lines='skip')\n",
    "\n",
    "s_new = set(df_new[\"sentence\"])\n",
    "s_old = set(df_old[\"sentence\"])\n",
    "\n",
    "s_difference = s_new-s_old\n",
    "\n",
    "a_new = set(df_new[\"adjective\"])\n",
    "a_old = set(df_old[\"adjective\"])\n",
    "\n",
    "a_difference = a_new-a_old"
   ]
  },
  {
   "cell_type": "code",
   "execution_count": 7,
   "id": "4345df25",
   "metadata": {},
   "outputs": [
    {
     "name": "stdout",
     "output_type": "stream",
     "text": [
      "362\n",
      "{'nimble'}\n"
     ]
    }
   ],
   "source": [
    "print(len(s_difference))\n",
    "print(a_difference)\n"
   ]
  },
  {
   "cell_type": "code",
   "execution_count": 8,
   "id": "27b2b0e9",
   "metadata": {},
   "outputs": [
    {
     "data": {
      "text/html": [
       "<div>\n",
       "<style scoped>\n",
       "    .dataframe tbody tr th:only-of-type {\n",
       "        vertical-align: middle;\n",
       "    }\n",
       "\n",
       "    .dataframe tbody tr th {\n",
       "        vertical-align: top;\n",
       "    }\n",
       "\n",
       "    .dataframe thead th {\n",
       "        text-align: right;\n",
       "    }\n",
       "</style>\n",
       "<table border=\"1\" class=\"dataframe\">\n",
       "  <thead>\n",
       "    <tr style=\"text-align: right;\">\n",
       "      <th></th>\n",
       "      <th>adjective</th>\n",
       "      <th>verb</th>\n",
       "      <th>sentence</th>\n",
       "      <th>tag</th>\n",
       "    </tr>\n",
       "  </thead>\n",
       "  <tbody>\n",
       "    <tr>\n",
       "      <th>49</th>\n",
       "      <td>narrow</td>\n",
       "      <td>was</td>\n",
       "      <td>One potential site at Boulder Canyon was bisec...</td>\n",
       "      <td>with_so</td>\n",
       "    </tr>\n",
       "    <tr>\n",
       "      <th>63</th>\n",
       "      <td>pleased</td>\n",
       "      <td>visited</td>\n",
       "      <td>Hazel tracked Dot down in May 1989 and visited...</td>\n",
       "      <td>with_so</td>\n",
       "    </tr>\n",
       "    <tr>\n",
       "      <th>64</th>\n",
       "      <td>pleased</td>\n",
       "      <td>visited</td>\n",
       "      <td>Hazel tracked Dot down in May 1989 and visited...</td>\n",
       "      <td>with_so</td>\n",
       "    </tr>\n",
       "    <tr>\n",
       "      <th>95</th>\n",
       "      <td>dead</td>\n",
       "      <td>wept</td>\n",
       "      <td>But he was dead our master wept &lt; br &gt; \\n</td>\n",
       "      <td>without_so</td>\n",
       "    </tr>\n",
       "    <tr>\n",
       "      <th>199</th>\n",
       "      <td>thorough</td>\n",
       "      <td>retained</td>\n",
       "      <td>The original kinship terminology of Indo - Eur...</td>\n",
       "      <td>with_so</td>\n",
       "    </tr>\n",
       "    <tr>\n",
       "      <th>...</th>\n",
       "      <td>...</td>\n",
       "      <td>...</td>\n",
       "      <td>...</td>\n",
       "      <td>...</td>\n",
       "    </tr>\n",
       "    <tr>\n",
       "      <th>21339</th>\n",
       "      <td>strong</td>\n",
       "      <td>forgot</td>\n",
       "      <td>The experience was so strong that Argento neve...</td>\n",
       "      <td>with_so</td>\n",
       "    </tr>\n",
       "    <tr>\n",
       "      <th>21437</th>\n",
       "      <td>vigorous</td>\n",
       "      <td>had</td>\n",
       "      <td>This \\n attack was so vigorous that Pak army h...</td>\n",
       "      <td>with_so</td>\n",
       "    </tr>\n",
       "    <tr>\n",
       "      <th>21594</th>\n",
       "      <td>tactless</td>\n",
       "      <td>broke</td>\n",
       "      <td>Ponsonby reminded Melbourne that the Lamb fami...</td>\n",
       "      <td>with_so</td>\n",
       "    </tr>\n",
       "    <tr>\n",
       "      <th>21657</th>\n",
       "      <td>derisory</td>\n",
       "      <td>amounted</td>\n",
       "      <td>They argued that the $ 1000 per day demurrage ...</td>\n",
       "      <td>with_so</td>\n",
       "    </tr>\n",
       "    <tr>\n",
       "      <th>21691</th>\n",
       "      <td>powerful</td>\n",
       "      <td>ended</td>\n",
       "      <td>His son Meltas , impatient of such restraint ,...</td>\n",
       "      <td>with_so</td>\n",
       "    </tr>\n",
       "  </tbody>\n",
       "</table>\n",
       "<p>372 rows × 4 columns</p>\n",
       "</div>"
      ],
      "text/plain": [
       "      adjective      verb                                           sentence  \\\n",
       "49       narrow       was  One potential site at Boulder Canyon was bisec...   \n",
       "63      pleased   visited  Hazel tracked Dot down in May 1989 and visited...   \n",
       "64      pleased   visited  Hazel tracked Dot down in May 1989 and visited...   \n",
       "95         dead      wept          But he was dead our master wept < br > \\n   \n",
       "199    thorough  retained  The original kinship terminology of Indo - Eur...   \n",
       "...         ...       ...                                                ...   \n",
       "21339    strong    forgot  The experience was so strong that Argento neve...   \n",
       "21437  vigorous       had  This \\n attack was so vigorous that Pak army h...   \n",
       "21594  tactless     broke  Ponsonby reminded Melbourne that the Lamb fami...   \n",
       "21657  derisory  amounted  They argued that the $ 1000 per day demurrage ...   \n",
       "21691  powerful     ended  His son Meltas , impatient of such restraint ,...   \n",
       "\n",
       "              tag  \n",
       "49        with_so  \n",
       "63        with_so  \n",
       "64        with_so  \n",
       "95     without_so  \n",
       "199       with_so  \n",
       "...           ...  \n",
       "21339     with_so  \n",
       "21437     with_so  \n",
       "21594     with_so  \n",
       "21657     with_so  \n",
       "21691     with_so  \n",
       "\n",
       "[372 rows x 4 columns]"
      ]
     },
     "execution_count": 8,
     "metadata": {},
     "output_type": "execute_result"
    }
   ],
   "source": [
    "diff_df = df_new[df_new['sentence'].isin(list(s_difference))]\n",
    "diff_df"
   ]
  },
  {
   "cell_type": "code",
   "execution_count": 9,
   "id": "4adc8b6b",
   "metadata": {},
   "outputs": [],
   "source": [
    "diff_df.to_excel('difference.xlsx', index=False)"
   ]
  },
  {
   "cell_type": "code",
   "execution_count": 10,
   "id": "978de761",
   "metadata": {},
   "outputs": [
    {
     "data": {
      "text/html": [
       "<div>\n",
       "<style scoped>\n",
       "    .dataframe tbody tr th:only-of-type {\n",
       "        vertical-align: middle;\n",
       "    }\n",
       "\n",
       "    .dataframe tbody tr th {\n",
       "        vertical-align: top;\n",
       "    }\n",
       "\n",
       "    .dataframe thead th {\n",
       "        text-align: right;\n",
       "    }\n",
       "</style>\n",
       "<table border=\"1\" class=\"dataframe\">\n",
       "  <thead>\n",
       "    <tr style=\"text-align: right;\">\n",
       "      <th></th>\n",
       "      <th>Sentence</th>\n",
       "      <th>Adj</th>\n",
       "      <th>Verb</th>\n",
       "      <th>Causal Excess</th>\n",
       "      <th>Causal Licenced Dependent</th>\n",
       "      <th>Non-causal Licensed Dependent</th>\n",
       "      <th>Dummy It</th>\n",
       "      <th>Other Complements</th>\n",
       "      <th>Not a Complement/Not Grammatical</th>\n",
       "      <th>Comments</th>\n",
       "    </tr>\n",
       "  </thead>\n",
       "  <tbody>\n",
       "    <tr>\n",
       "      <th>0</th>\n",
       "      <td>It is unknown how many people attended the eve...</td>\n",
       "      <td>(5, 8)</td>\n",
       "      <td>(29, 9)</td>\n",
       "      <td>False</td>\n",
       "      <td>False</td>\n",
       "      <td>False</td>\n",
       "      <td>True</td>\n",
       "      <td>False</td>\n",
       "      <td>False</td>\n",
       "      <td>NaN</td>\n",
       "    </tr>\n",
       "    <tr>\n",
       "      <th>1</th>\n",
       "      <td>Jose Miguel was very active during the Republi...</td>\n",
       "      <td>(20, 7)</td>\n",
       "      <td>(145, 8)</td>\n",
       "      <td>False</td>\n",
       "      <td>False</td>\n",
       "      <td>False</td>\n",
       "      <td>False</td>\n",
       "      <td>False</td>\n",
       "      <td>True</td>\n",
       "      <td>NaN</td>\n",
       "    </tr>\n",
       "    <tr>\n",
       "      <th>2</th>\n",
       "      <td>Contrary to common practice, the title of abbo...</td>\n",
       "      <td>(123, 11)</td>\n",
       "      <td>(141, 10)</td>\n",
       "      <td>False</td>\n",
       "      <td>False</td>\n",
       "      <td>False</td>\n",
       "      <td>False</td>\n",
       "      <td>True</td>\n",
       "      <td>False</td>\n",
       "      <td>NaN</td>\n",
       "    </tr>\n",
       "    <tr>\n",
       "      <th>3</th>\n",
       "      <td>Phillips read Elie Wiesel's book \"Night\" about...</td>\n",
       "      <td>(93, 6)</td>\n",
       "      <td>(107, 10)</td>\n",
       "      <td>True</td>\n",
       "      <td>False</td>\n",
       "      <td>False</td>\n",
       "      <td>False</td>\n",
       "      <td>False</td>\n",
       "      <td>False</td>\n",
       "      <td>NaN</td>\n",
       "    </tr>\n",
       "    <tr>\n",
       "      <th>4</th>\n",
       "      <td>It became successful that, driven by with Gil ...</td>\n",
       "      <td>(9, 11)</td>\n",
       "      <td>(58, 4)</td>\n",
       "      <td>False</td>\n",
       "      <td>False</td>\n",
       "      <td>False</td>\n",
       "      <td>False</td>\n",
       "      <td>False</td>\n",
       "      <td>True</td>\n",
       "      <td>NaN</td>\n",
       "    </tr>\n",
       "    <tr>\n",
       "      <th>...</th>\n",
       "      <td>...</td>\n",
       "      <td>...</td>\n",
       "      <td>...</td>\n",
       "      <td>...</td>\n",
       "      <td>...</td>\n",
       "      <td>...</td>\n",
       "      <td>...</td>\n",
       "      <td>...</td>\n",
       "      <td>...</td>\n",
       "      <td>...</td>\n",
       "    </tr>\n",
       "    <tr>\n",
       "      <th>9968</th>\n",
       "      <td>In fact, Schwartz was so isolated from the res...</td>\n",
       "      <td>(24, 9)</td>\n",
       "      <td>(153, 7)</td>\n",
       "      <td>False</td>\n",
       "      <td>False</td>\n",
       "      <td>False</td>\n",
       "      <td>False</td>\n",
       "      <td>False</td>\n",
       "      <td>False</td>\n",
       "      <td>NaN</td>\n",
       "    </tr>\n",
       "    <tr>\n",
       "      <th>9969</th>\n",
       "      <td>In the three years during which Representative...</td>\n",
       "      <td>(158, 6)</td>\n",
       "      <td>(175, 4)</td>\n",
       "      <td>False</td>\n",
       "      <td>False</td>\n",
       "      <td>False</td>\n",
       "      <td>False</td>\n",
       "      <td>False</td>\n",
       "      <td>False</td>\n",
       "      <td>NaN</td>\n",
       "    </tr>\n",
       "    <tr>\n",
       "      <th>9970</th>\n",
       "      <td>It is unclear who committed this crime, but it...</td>\n",
       "      <td>(5, 8)</td>\n",
       "      <td>(17, 10)</td>\n",
       "      <td>False</td>\n",
       "      <td>False</td>\n",
       "      <td>False</td>\n",
       "      <td>False</td>\n",
       "      <td>False</td>\n",
       "      <td>False</td>\n",
       "      <td>NaN</td>\n",
       "    </tr>\n",
       "    <tr>\n",
       "      <th>9971</th>\n",
       "      <td>His brother operated a maiolica workshop, but ...</td>\n",
       "      <td>(55, 6)</td>\n",
       "      <td>(117, 4)</td>\n",
       "      <td>False</td>\n",
       "      <td>False</td>\n",
       "      <td>False</td>\n",
       "      <td>False</td>\n",
       "      <td>False</td>\n",
       "      <td>False</td>\n",
       "      <td>NaN</td>\n",
       "    </tr>\n",
       "    <tr>\n",
       "      <th>9972</th>\n",
       "      <td>Xiaomi announced the Mi Band 1S, or the Mi Ban...</td>\n",
       "      <td>(119, 10)</td>\n",
       "      <td>(6, 10)</td>\n",
       "      <td>False</td>\n",
       "      <td>False</td>\n",
       "      <td>False</td>\n",
       "      <td>False</td>\n",
       "      <td>False</td>\n",
       "      <td>False</td>\n",
       "      <td>NaN</td>\n",
       "    </tr>\n",
       "  </tbody>\n",
       "</table>\n",
       "<p>9973 rows × 10 columns</p>\n",
       "</div>"
      ],
      "text/plain": [
       "                                               Sentence        Adj       Verb  \\\n",
       "0     It is unknown how many people attended the eve...     (5, 8)    (29, 9)   \n",
       "1     Jose Miguel was very active during the Republi...    (20, 7)   (145, 8)   \n",
       "2     Contrary to common practice, the title of abbo...  (123, 11)  (141, 10)   \n",
       "3     Phillips read Elie Wiesel's book \"Night\" about...    (93, 6)  (107, 10)   \n",
       "4     It became successful that, driven by with Gil ...    (9, 11)    (58, 4)   \n",
       "...                                                 ...        ...        ...   \n",
       "9968  In fact, Schwartz was so isolated from the res...    (24, 9)   (153, 7)   \n",
       "9969  In the three years during which Representative...   (158, 6)   (175, 4)   \n",
       "9970  It is unclear who committed this crime, but it...     (5, 8)   (17, 10)   \n",
       "9971  His brother operated a maiolica workshop, but ...    (55, 6)   (117, 4)   \n",
       "9972  Xiaomi announced the Mi Band 1S, or the Mi Ban...  (119, 10)    (6, 10)   \n",
       "\n",
       "      Causal Excess  Causal Licenced Dependent  Non-causal Licensed Dependent  \\\n",
       "0             False                      False                          False   \n",
       "1             False                      False                          False   \n",
       "2             False                      False                          False   \n",
       "3              True                      False                          False   \n",
       "4             False                      False                          False   \n",
       "...             ...                        ...                            ...   \n",
       "9968          False                      False                          False   \n",
       "9969          False                      False                          False   \n",
       "9970          False                      False                          False   \n",
       "9971          False                      False                          False   \n",
       "9972          False                      False                          False   \n",
       "\n",
       "      Dummy It  Other Complements  Not a Complement/Not Grammatical Comments  \n",
       "0         True              False                             False      NaN  \n",
       "1        False              False                              True      NaN  \n",
       "2        False               True                             False      NaN  \n",
       "3        False              False                             False      NaN  \n",
       "4        False              False                              True      NaN  \n",
       "...        ...                ...                               ...      ...  \n",
       "9968     False              False                             False      NaN  \n",
       "9969     False              False                             False      NaN  \n",
       "9970     False              False                             False      NaN  \n",
       "9971     False              False                             False      NaN  \n",
       "9972     False              False                             False      NaN  \n",
       "\n",
       "[9973 rows x 10 columns]"
      ]
     },
     "execution_count": 10,
     "metadata": {},
     "output_type": "execute_result"
    }
   ],
   "source": [
    "df_taiqi = pd.read_excel('spike_adj_vb.xlsx')\n",
    "s_taiqi = set(df_taiqi[\"Sentence\"])\n",
    "\n",
    "s_difference_taiqi = s_new-s_taiqi\n",
    "\n",
    "# a_taiqi = set(df_taiqi[\"adjective\"])\n",
    "\n",
    "# a_difference_taiqi = a_new-a_taiqi\n",
    "df_taiqi"
   ]
  },
  {
   "cell_type": "code",
   "execution_count": 11,
   "id": "361353e7",
   "metadata": {},
   "outputs": [
    {
     "name": "stdout",
     "output_type": "stream",
     "text": [
      "21095\n"
     ]
    }
   ],
   "source": [
    "s_difference_taiqi = s_new-s_taiqi\n",
    "print(len(s_difference_taiqi))"
   ]
  },
  {
   "cell_type": "code",
   "execution_count": 12,
   "id": "1a193b04",
   "metadata": {},
   "outputs": [
    {
     "name": "stdout",
     "output_type": "stream",
     "text": [
      "12\n"
     ]
    }
   ],
   "source": [
    "overlap_taiqi = s_new & s_taiqi\n",
    "print(len(overlap_taiqi))"
   ]
  },
  {
   "cell_type": "code",
   "execution_count": 13,
   "id": "31b4dfdf",
   "metadata": {},
   "outputs": [],
   "source": [
    "df_selected = pd.read_excel('selected.xlsx')"
   ]
  },
  {
   "cell_type": "code",
   "execution_count": 14,
   "id": "a03decf7",
   "metadata": {},
   "outputs": [
    {
     "name": "stdout",
     "output_type": "stream",
     "text": [
      "151\n",
      "['He was so amazed he forgot to thank me .', 'Marie is amazed that he came up with that so quickly .', 'The decomposition of the corpse was so advanced that the peasants decided to burn it .', 'In fact , it was so technically advanced that the furniture had to be custom designed because no one had ever had data and power connected to every seat on this scale before .', 'One man was so afraid that he camped in the middle of his flock , hoping to evade patrolling cowboys .', 'He was so afraid that rival loyalist inmates wished to kill him inside the prison .', 'Her uncle was so angry that he sent her to live in a Lutheran orphanage , where she spent the rest of her childhood .', \"Luka is angry that she cheated on him and put their son 's life in danger .\", 'The man was so annoyed that he slept hungry and the next morning he chewed so much of a plant that he took on Shaman powers .', 'Hergé became annoyed that Casterman then sent the book to the printers without his final approval .', 'This playing for wind was so apparent that the Michigan players finally burlesqued it .', 'It was not always apparent that these ploys worked .', \"Northern Liang 's duke Juqu Mengxun became so apprehensive that he offered to yield his territory and relocate his entire army into Later Qin proper .\", 'Seven is apprehensive that the Ledosians scanned her deflector modifications and may eventually construct their own device to disable the barrier .', \"Eusébio was so astonished at Stepney 's save that he stopped to applaud the keeper as Stepney threw the ball back into play .\", 'Devi was astounded that they objected to her building toilets , but they raised no objection to women defecating in the street .', 'His grades were so bad that he confided to Chris that he was about to join the Army .', 'Sundarapandian feels bad that all his friends betrayed him .', 'The family quarrel became so bitter that the Duke went abroad for a time with his new wife .', 'In the end , Fisk was bitter that none of his friends and old political allies intervened to help his original case .', 'Halas had been so certain that the Bears would overpower the lowly Texans that he started only his second - stringers .', 'Hart was also not certain that the idea had much merit , and the two therefore separated .', 'This has led to mixed criticism as some wanted Christina , whose preference for eventing was so clear that she often felt like an outsider , to stick with eventing .', \"He maintained he did n't recall setting bodies on fire , but admitted the evidence was clear that he had .\", 'After informing his father of his intent to switch , his father was so concerned that he traveled to visit him and speak with his professors at the school .', 'He was concerned that there were provisions in the bill that were open to abuse .', \"Shea 's defense team was so confident of acquittal that they waived final arguments before the jury .\", 'After 15 exciting rounds , Jersey Joe was confident he won the title .', 'This cycle was so consistent that the Egyptians timed its onset using the heliacal rising of Sirius , the key event used to set their calendar .', 'Accounts are consistent that the Huna warriors practiced mass rapes of women in India .', 'He was so convinced that he never drank again and became an advocate for Temperance .', 'He was convinced that civil government had no basis for meddling in matters of religious belief .', 'Finally , he was so delighted that he asked me to come to his cafe and entertain the customers .', 'Roddy is delighted he had the chance to see his friend one last time .', 'He was so depressed that he contemplated leaving the film industry .', 'Anu is depressed that Balu sacrificed himself to save her , searches for him and loses hope .', \"On the second occasion , Li informed him of Emperor Wu 's passing , and Su was so despondent that in mourning that he vomited blood .\", \"After Villa 's raid on Ciudad Juárez in June 1919 ( in which Ángeles did not participate ) , Ángeles became despondent that there was no solution to the long and bloody civil war .\", 'She was so determined that she continued her training even after breaking both her wrists in a childhood accident .', 'He was determined that good acting came from internal motivations rather than outward shows .', 'Stephens was so disappointed by his own artistic talent that he took up art criticism and stopped painting .', 'We are disappointed that he chose to point fingers and manufacture claims , rather than doing what was necessary to continue to be a part of Slipknot . \"', 'The sales were so disappointing that Citroën attempted to buy back and scrap each Birotor , as it did not want to support the model with spare parts .', 'It is disappointing that the U.S. government went along .', 'Adams was so disgusted that he ripped up the Memphis agreement a year early in favor of playing at Vanderbilt in 1998 .', \"Annie takes Britta 's phone and learns that Troy sent Britta something nice ; she is disgusted that Britta only liked Blade because she thought he was mean .\", 'Bernhardt was so displeased with her performance that she refused to allow its release and tried to buy up and destroy all the negatives .', 'His mother had wanted a girl and was displeased that she had another son instead .', \"Mendes was so dissatisfied with his first three days ' filming that he obtained permission from DreamWorks to reshoot the scenes .\", \"Legislators and voters were dissatisfied that the larger districts in the court 's plan valued numerical equality over more local representation .\", 'Mayday was so ecstatic that a song had been named after them that they promised to write songs for S.H.E in the future .', \"We 're ecstatic that we got him in the Rodriguez trade . \", 'King Pedro IV was so elated that he proclaimed St. Francis his savior and renamed his base São Francisco de Kibangu .', 'The people were elated that their livelihoods remained intact , even though much of their town was destroyed .', 'Green says he was so embarrassed that he agreed to perform only from behind a curtain .', 'I was embarrassed that my mother spoke her language in public . ', \"The emperor 's victory was so emphatic that the Pechenegs soon disappeared as an independent people .\", 'Siricius was emphatic that clerical continence belonged to immemorial , even apostolic , tradition .', 'People were so enthusiastic that they built this hill in eight days without machines and no money .', 'Critics were enthusiastic that the show lacked the dramatic back stories and public humiliations that characterize other shows in the genre .', 'She was so enraged that she decided to take vengeance upon him .', 'The Great Big Rat sees the commotion and becomes enraged that his plan failed .', 'This became so evident that the Ottoman authorities prohibited the postcard distribution at a certain point .', 'It is however , evident that each of these men had an interest in the development of Cleveland and closely followed the debate regarding the future role of the township .', 'He was so excited that his hands shook as he took photos .', 'Ellie is excited that she did well .', 'He became so fearful that he became ill , and he sent a petition to Emperor Muzong declining the Henghai commission .', 'Banks and credit card companies were fearful that Atalla would dominate the market , which spurred the development of an international encryption standard .', 'The structure was so firm that the workers had to severe the posts from the surface .', 'His parents were firm that their mission required them to communicate their faith in all circumstances and decided to stay on .', 'She said , \" I was so fortunate that I got to travel the whole of India and it was absolutely amazing .', 'It was fortunate that this coincided with a popular resurgence of guitar - based music , in the wake of the success of US bands such as The White Stripes and The Strokes .', 'In one XFM show , he became so frustrated that he left the room before Karl finished the segment .', 'However , he becomes frustrated that his parents were pushing him towards becoming an office worker that he decided to do manga instead .', 'Cao Pi was so furious that he drew his sword and wanted to execute his servants .', 'Caldwell is furious that Austin disregarded their agreement .', 'I was so grateful that I kept a picture of him in my room .', 'I ’m grateful that they contacted me , they are a pleasure to work with .', 'But Varro was apparently so guilty that Hortensius resorted to dirty tricks which involved marking the ballots of the judges he had bribed , which caused a public scandal .', 'Susan feels so guilty that Mike fell asleep at the reception due to all the night jobs he has done for her plans , so she asks the reverend if he has time later that night .', \"Diane could n't believe that her sister and her ex - husband had had an affair behind her back , but was so happy with Jack that she forgave them both .\", 'She is so happy that she finally saw Tomte .', \"For example , Zhu Youliang ( ) the Prince of Heng , an older cousin of the emperor 's , was so honored at court at that time that even Li Yu 's superior , the chief of staff Li Zhen , kneeled to him .\", 'She said , \" I am super - excited to stay , and I am so honored that they asked me to stay .', 'My mother was so horrified that she fell ill .', 'Emma says that she was horrified that Rick pointed the gun right at her head .', 'He was so impressed that he started a craze for the test that has never diminished .', 'Charles is impressed that Tyler stood up for his sister , and they connect .', 'He was so indebted that he sold his Irish estates and used that money to invest in South Sea Company stock .', 'I am indebted that even in sorrow u heard me .', 'Klement was so indignant that he decided together with Václav Laurin , to start repairing bicycles themselves .', 'Rommel was indignant that the British expected to find his headquarters 250 miles behind his front .', 'His pleas were so insistent that they virtually amounted to insubordination .', \"Dow is insistent that it closed in the 1870s and was converted into an Emigrants ' Home , Butt supports this with a date of 1879 and Anderson gives 1880 .\", \"Julie is so irate that George told Elaine she did n't buy the salad that she breaks up with him .\", 'When he nevertheless published a second edition in 1794 , the censor was so irate that he arranged for a royal order that required Kant never to publish or even speak publicly about religion .', 'Black columnists were irate that some black men willingly took these kinds of jobs .', 'Lian Po was so jealous that he swore enmity between the two of them .', 'Karen tells her that she felt jealous that Ivy had the role and that she did great .', 'Local residents were so outraged that he passed over a local firm for large national companies .', 'Elaine is outraged that he stole her idea .', 'Duvall eventually became so overwhelmed by the stress of her role that she became physically ill for months .', 'She said she was \" overwhelmed that she got the part and was looking forward to the challenge \" .', 'The experience was so overwhelming that I knew my life was forever changed by that moment . \"', 'Jean Edward Smith maintains , \" The evidence is overwhelming that during the Vicksburg campaign he occasionally fell off the wagon .', \"When the news reached Chang'an , Emperor Dezong was so panicked that he considered fleeing Chang'an , but remained due to Li Sheng 's advice .\", 'After a series of fires in 1741 , the city became panicked that blacks planned to burn the city in conspiracy with some poor whites .', 'The monk was so pleased that he thereafter followed Pramati wherever he went .', \"I really enjoyed doing it and I 'm pleased I took the opportunity when it came my way .\", 'The response was so positive that she scheduled a game between the freshman and sophomore classes .', \"An hour later , however , they 're still alive which confuses Elijah and Rebekah , as they were positive that Klaus originated their bloodline and were sure it was n't Kol Mikaelson ( Nathaniel Buzolic ) .\", 'Rococo became so prevalent in the city that it became known as “ Augsburg style ” .', 'In November 1907 , rumors were prevalent that Baird and Fitzpatrick intended to resign unless Michigan withdrew from the conference .', 'Mandhata had dominated the whole planet and he became so proud that he wanted to rule heaven also .', 'My dad was so proud that his son made \" aliyah \" . \"', 'The Australian government was so resentful of this case that it insisted that none of its troops would be tried by the British military during World War I.', 'Some of his children were resentful that he gave them no special privileges and treated their mothers poorly .', 'The ranking Democrat on the Armed Services Committee , Sen. Carl Levin of Michigan , thought the program was so ridiculous that he thought initial reports of it were the result of a hoax .', 'In 2011 , Carles said it was \" ridiculous that any sort of press took it seriously \" and that although the bands he spoke to \" get annoyed \" by the tag , \" they understand that it \\'s been a good thing .', 'Her mother Demeter , the goddess of the harvest , was so sad that she struck the world with fall and winter .', 'Although he had mixed feelings with his dad , he still felt sad that he died .', 'It has also been noted that he was so satisfied he did this without fee or reward and was publicly thanked .', 'The main character designer noted he was satisfied that fans enjoyed this look .', 'Hu was so scared that he fell and fainted .', \"Kkusum 's phone rings and Abhay and Esha are scared that someone heard them .\", 'Sima Yi was so shocked that he immediately apologised to his wife and reconciled with her .', 'In the police court , Mrs. Jones says she was shocked that her husband had the box .', 'Its tone he employed was so strong that the king disavowed him and so Niebuhr retired from politics .', 'Evidence is strong that the Spanish Crown reclaimed the property after the British exited Florida in 1783 , and that it was sold by auction in 1791 .', \"The Aequi , however , were so stunned at the Romans ' boldness that they abandoned their camp and fled .\", 'Charlie is stunned that Mary won .', 'The Russians by now were so sure of victory that they brought up trains from Warsaw to transport the expected prisoners .', 'I am sure the lack of men on stage made some men feel excluded . \"', 'The judges were so surprised that one of them had a \" spasm , \" one leaned against the wall for support , and the other fell backwards into a barrel of flour !', 'The fans were surprised that El General ( Franco ) sang a salsa song .', 'Li shiji was so thankful that he wept and bit his finger so hard that he bled .', 'I am thankful that Allah ( God ) chose me for this sacrifice .', 'Mary Martin was so thrilled that when she sang it on stage , she performed cartwheels on the stage at every turn of \" I \\'m in love . \"', 'But I was so thrilled that my mother typed them .', 'She was so unhappy in this environment that she left school at fifteen despite the pleasure she gained from studying .', 'Though the negative attention fades away , Marge is unhappy that Max changed his name without consulting her .', 'When he merely sailed down a rope wearing a pair of wings and attached to a pulley , the spectators were so unimpressed that he had to escape into the maze to get away from them .', 'They were unimpressed that a fundamental functional change to the default behaviour of Net - Lib occurred without more than a passing mention in an unrelated document .', 'One woman was so unnerved by their presence that she left shortly after arrival .', 'He found that many of the punters enjoyed his performances , although was unnerved that some of them made sexual advances toward him .', 'Mendelssohn was so upset that he immediately went to get a haircut to differentiate himself .', 'He was upset that Emma exhibited greater control of his powers than he had .', 'This rumor was so widespread that it lived long until the 1950s .', 'In Burma , the belief was once widespread that the Sumatran rhino ate fire .', 'He was so worried that he spent an evening memorising two dozen riders he did not know .', 'Matthews was worried that his career had only four years left and wanted to end it near his business .']\n"
     ]
    }
   ],
   "source": [
    "def delete_added_sothat(text):\n",
    "    # Use regular expressions to perform the replacements\n",
    "    text = re.sub(r' \\(so\\)', '', text)\n",
    "    text = re.sub(r' \\(that\\)', '', text)\n",
    "    return text\n",
    "\n",
    "sentences = df_selected[\"sentences\"]\n",
    "origin_sents = [delete_added_sothat(s) for s in sentences]\n",
    "\n",
    "print(len(origin_sents))\n",
    "print(origin_sents)"
   ]
  },
  {
   "cell_type": "code",
   "execution_count": 15,
   "id": "209f73fc",
   "metadata": {},
   "outputs": [],
   "source": [
    "re_df = df_new[~df_new['sentence'].isin(origin_sents)]"
   ]
  },
  {
   "cell_type": "code",
   "execution_count": 16,
   "id": "8401e0d5",
   "metadata": {},
   "outputs": [
    {
     "data": {
      "text/plain": [
       "21557"
      ]
     },
     "execution_count": 16,
     "metadata": {},
     "output_type": "execute_result"
    }
   ],
   "source": [
    "len(re_df)"
   ]
  },
  {
   "cell_type": "code",
   "execution_count": 17,
   "id": "cd264b3e",
   "metadata": {},
   "outputs": [],
   "source": [
    "re_df.to_excel('full_dataset_for_rewash.xlsx', index=False)"
   ]
  },
  {
   "cell_type": "code",
   "execution_count": 18,
   "id": "a627d4ab",
   "metadata": {},
   "outputs": [],
   "source": [
    "s = set(df[\"sentence_text\"])"
   ]
  },
  {
   "cell_type": "code",
   "execution_count": 19,
   "id": "b9cfeff1",
   "metadata": {},
   "outputs": [
    {
     "name": "stdout",
     "output_type": "stream",
     "text": [
      "0\n"
     ]
    }
   ],
   "source": [
    "overlap_raw = s & s_taiqi\n",
    "print(len(overlap_raw))"
   ]
  },
  {
   "cell_type": "code",
   "execution_count": 20,
   "id": "1fd55216",
   "metadata": {},
   "outputs": [
    {
     "name": "stdout",
     "output_type": "stream",
     "text": [
      "75\n"
     ]
    }
   ],
   "source": [
    "finded = [\"amazed\", \"advanced\", \"afraid\", \"angry\", \"annoyed\",\n",
    "          \"apparent\", \"apprehensive\", \"astonished\", \"bad\", \"bitter\", \n",
    "          \"certain\", \"clear\", \"concerned\", \"cofident\", \"consistent\", \n",
    "          \"convinced\", \"delighted\", \"depressed\", \"determined\", \"disappointed\", \n",
    "          \"disappointing\", \"disgusted\", \"displeased\", \"dissatisfied\", \"ecstatic\",\n",
    "         \"elated\", \"embarrassed\", \"emphatic\", \"enthusiastic\", \"enraged\",\n",
    "         \"evident\",\"excited\", \"fearful\", \"firm\", \"fortunate\", \n",
    "         \"frustrated\", \"furious\", \"grateful\", \"guilty\",\n",
    "         \"happy\", \"honored\", \"horrified\", \"impressed\", \"indebted\",\n",
    "         \"indignant\", \"insistent\", \"irate\", \"jealous\", \"outraged\",\n",
    "         \"overwhelmed\", \"overwhelming\", \"panicked\", \"pleased\",\n",
    "         \"positive\", \"prevalent\", \"proud\", \"resentful\", \"ridiculous\",\n",
    "         \"sad\", \"satisfied\", \"scared\", \"shocked\", \"strong\",\n",
    "         \"stunned\", \"stunned\", \"sure\", \"surprised\", \"thankful\", \n",
    "         \"thrilled\", \"unhappy\", \"unimpressed\", \"unnerved\", \"upset\",\n",
    "         \"widespread\", \"worried\"]\n",
    "print(len(finded))"
   ]
  },
  {
   "cell_type": "code",
   "execution_count": 21,
   "id": "99fb8b41",
   "metadata": {},
   "outputs": [],
   "source": [
    "df_washed = pd.read_excel('amazon.xlsx')\n",
    "df_ama = df_washed[~df_washed['adjective'].isin(finded)]\n",
    "df_no_duplicates = df_ama.drop_duplicates()\n",
    "df_no_duplicates.to_excel('amazon_unselected.xlsx', index=False)"
   ]
  },
  {
   "cell_type": "code",
   "execution_count": 22,
   "id": "7361e578",
   "metadata": {},
   "outputs": [
    {
     "name": "stdout",
     "output_type": "stream",
     "text": [
      "356418\n",
      "166032\n"
     ]
    }
   ],
   "source": [
    "print(len(df_washed))\n",
    "print(len(df_no_duplicates))"
   ]
  },
  {
   "cell_type": "code",
   "execution_count": 35,
   "id": "ed761727",
   "metadata": {},
   "outputs": [
    {
     "data": {
      "text/plain": [
       "118"
      ]
     },
     "execution_count": 35,
     "metadata": {},
     "output_type": "execute_result"
    }
   ],
   "source": [
    "non_causal = df_taiqi[df_taiqi[\"Non-causal Licensed Dependent\"]]\n",
    "sentences = non_causal[\"Sentence\"]\n",
    "\n",
    "adjectives = set()\n",
    "i = 1\n",
    "for s in sentences:\n",
    "    doc = nlp(s)\n",
    "    for token in doc:\n",
    "        if token.pos_ == \"VERB\" and token.dep_ == \"ccomp\":\n",
    "            if token.head.pos_ == \"ADJ\":\n",
    "                adjectives.add((token.head.text, s))\n",
    "                break\n",
    "                \n",
    "len(adjectives)"
   ]
  },
  {
   "cell_type": "code",
   "execution_count": 39,
   "id": "3f35d896",
   "metadata": {},
   "outputs": [
    {
     "name": "stdout",
     "output_type": "stream",
     "text": [
      "Aware\n",
      "afraid\n",
      "aware\n",
      "insistent\n",
      "scared\n",
      "unconvinced\n",
      "unsure\n",
      "confident\n",
      "unaware\n",
      "sure\n",
      "concerned\n",
      "worried\n",
      "convinced\n",
      "certain\n",
      "such\n",
      "fortunate\n",
      "cognisant\n"
     ]
    },
    {
     "data": {
      "text/plain": [
       "17"
      ]
     },
     "execution_count": 39,
     "metadata": {},
     "output_type": "execute_result"
    }
   ],
   "source": [
    "adj, s = zip(*adjectives)\n",
    "print(*set(adj), sep=\"\\n\")\n",
    "len(set(adj))"
   ]
  },
  {
   "cell_type": "code",
   "execution_count": null,
   "id": "716f7c0d",
   "metadata": {},
   "outputs": [],
   "source": []
  }
 ],
 "metadata": {
  "kernelspec": {
   "display_name": "Python 3 (ipykernel)",
   "language": "python",
   "name": "python3"
  },
  "language_info": {
   "codemirror_mode": {
    "name": "ipython",
    "version": 3
   },
   "file_extension": ".py",
   "mimetype": "text/x-python",
   "name": "python",
   "nbconvert_exporter": "python",
   "pygments_lexer": "ipython3",
   "version": "3.11.3"
  }
 },
 "nbformat": 4,
 "nbformat_minor": 5
}
