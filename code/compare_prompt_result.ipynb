{
 "cells": [
  {
   "cell_type": "code",
   "execution_count": 4,
   "id": "initial_id",
   "metadata": {
    "ExecuteTime": {
     "end_time": "2023-10-15T21:43:41.248246Z",
     "start_time": "2023-10-15T21:43:41.115291Z"
    }
   },
   "outputs": [],
   "source": [
    "import pandas as pd\n",
    "import json\n",
    "import os\n",
    "\n",
    "dfs = []\n",
    "\n",
    "folder_names = [\"llama22\"]\n",
    "for folder in folder_names:\n",
    "    for i in range (1, 17):\n",
    "        json_file = f\"{folder}/accuracy_{i}.json\"\n",
    "\n",
    "        with open(json_file, 'r') as file:\n",
    "            data = json.load(file)\n",
    "\n",
    "        # Extract relevant data from the JSON file\n",
    "        label_accuracy = data.get(\"Label Accuracy\", {})\n",
    "        overall_accuracy = data.get(\"Overall Accuracy\", 0)\n",
    "\n",
    "        # Extract the file name without the extension\n",
    "        file_name = os.path.splitext(json_file)[0]\n",
    "\n",
    "        # Create a dictionary with the data\n",
    "        df = pd.DataFrame({\n",
    "            'prompt': [file_name],\n",
    "            'causal excess': [label_accuracy.get('causal excess', 0)],\n",
    "            'non-causal': [label_accuracy.get('non-causal', 0)],\n",
    "            'causal': [label_accuracy.get('causal', 0)],\n",
    "            'only causal excess': [label_accuracy.get('only causal excess', 0)],\n",
    "            'overall accuracy': [overall_accuracy]\n",
    "        })\n",
    "    \n",
    "         # Append the DataFrame to the list\n",
    "        dfs.append(df)\n",
    "\n",
    "# Concatenate all DataFrames into one\n",
    "result_df = pd.concat(dfs, ignore_index=True)\n",
    "\n",
    "columns_to_format = ['causal excess','non-causal', 'causal', 'only causal excess', 'overall accuracy']\n",
    "\n",
    "# Format the specified columns with two decimal places (XX.XX format)\n",
    "result_df[columns_to_format] = (result_df[columns_to_format] * 100).applymap('{:.2f}'.format)\n",
    "\n",
    "# Save the DataFrame to an Excel file\n",
    "result_df.to_excel('comparison_results.xlsx', index=False)\n"
   ]
  },
  {
   "cell_type": "code",
   "execution_count": null,
   "id": "0ed0ffcd",
   "metadata": {},
   "outputs": [],
   "source": []
  },
  {
   "cell_type": "code",
   "execution_count": null,
   "id": "72e965a7",
   "metadata": {},
   "outputs": [],
   "source": []
  }
 ],
 "metadata": {
  "kernelspec": {
   "display_name": "Python 3 (ipykernel)",
   "language": "python",
   "name": "python3"
  },
  "language_info": {
   "codemirror_mode": {
    "name": "ipython",
    "version": 3
   },
   "file_extension": ".py",
   "mimetype": "text/x-python",
   "name": "python",
   "nbconvert_exporter": "python",
   "pygments_lexer": "ipython3",
   "version": "3.11.3"
  }
 },
 "nbformat": 4,
 "nbformat_minor": 5
}
